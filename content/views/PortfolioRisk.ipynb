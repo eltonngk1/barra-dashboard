{
 "cells": [
  {
   "cell_type": "code",
   "execution_count": 7,
   "id": "5286972a",
   "metadata": {},
   "outputs": [],
   "source": [
    "import pandas as pd\n",
    "from sqlalchemy import create_engine\n",
    "import pyodbc\n",
    "import psycopg2"
   ]
  },
  {
   "cell_type": "code",
   "execution_count": 17,
   "id": "99f0e901",
   "metadata": {
    "scrolled": true
   },
   "outputs": [
    {
     "name": "stdout",
     "output_type": "stream",
     "text": [
      "                             report_id  indent  barraid       localid  \\\n",
      "0     1cec6fdccdce4740a1d91408aae90ffd       0                          \n",
      "1     1cec6fdccdce4740a1d91408aae90ffd       1     None  CN601360_CFD   \n",
      "2     1cec6fdccdce4740a1d91408aae90ffd       1     None    TW2345_CFD   \n",
      "3     1cec6fdccdce4740a1d91408aae90ffd       1     None    TW2395_CFD   \n",
      "4     1cec6fdccdce4740a1d91408aae90ffd       1  SINBFA1         SGAWX   \n",
      "...                                ...     ...      ...           ...   \n",
      "3307  622673c88ea7499594d6f227f0eb835d       1  CHNFMX1      CN300567   \n",
      "3308  622673c88ea7499594d6f227f0eb835d       1  HKGH8X1        HK2269   \n",
      "3309  622673c88ea7499594d6f227f0eb835d       1  CHNCGX1      CN600572   \n",
      "3310  622673c88ea7499594d6f227f0eb835d       1  CHNF3U1      CN603105   \n",
      "3311  622673c88ea7499594d6f227f0eb835d       1  HKGIPA1        HK2057   \n",
      "\n",
      "                                asset_name  \\\n",
      "0                                            \n",
      "1         360 SECURITY TECHNOLOGY IN-A CFD   \n",
      "2               ACCTON TECHNOLOGY CORP CFD   \n",
      "3                     ADVANTECH CO LTD CFD   \n",
      "4                         AEM HOLDINGS LTD   \n",
      "...                                    ...   \n",
      "3307  WUHAN JINGCE ELECTRONIC GROUP CO LTD   \n",
      "3308             WUXI BIOLOGICS CAYMAN INC   \n",
      "3309  ZHEJIANG CONBA PHARMACEUTICAL CO LTD   \n",
      "3310    ZHEJIANG XINNENG PHOTOVOLTAIC TECH   \n",
      "3311              ZTO EXPRESS (CAYMAN) INC   \n",
      "\n",
      "      active_residual_effective_weight_pctg  active_weight_pctg  \\\n",
      "0                                100.000000          100.000000   \n",
      "1                                  0.191119            0.000000   \n",
      "2                                  0.397633            0.000000   \n",
      "3                                 -0.546939            0.000000   \n",
      "4                                  0.569801            0.569801   \n",
      "...                                     ...                 ...   \n",
      "3307                               0.587679            0.587679   \n",
      "3308                               1.062529            1.062529   \n",
      "3309                               1.027743            1.027743   \n",
      "3310                               1.766501            1.766501   \n",
      "3311                               1.562216            1.562216   \n",
      "\n",
      "      adjustment_factor adjustment_type aggregation_id_s  ...  \\\n",
      "0                   NaN                              157  ...   \n",
      "1                   1.0            None             None  ...   \n",
      "2                   1.0            None             None  ...   \n",
      "3                   1.0            None             None  ...   \n",
      "4                   1.0            None             None  ...   \n",
      "...                 ...             ...              ...  ...   \n",
      "3307                1.0            None             None  ...   \n",
      "3308                1.0            None             None  ...   \n",
      "3309                1.0            None             None  ...   \n",
      "3310                1.0            None             None  ...   \n",
      "3311                1.0            None             None  ...   \n",
      "\n",
      "            portfolio_short_name  benchmark_short_name  \\\n",
      "0                SGADF_EOD_batch                  Cash   \n",
      "1                SGADF_EOD_batch                  Cash   \n",
      "2                SGADF_EOD_batch                  Cash   \n",
      "3                SGADF_EOD_batch                  Cash   \n",
      "4                SGADF_EOD_batch                  Cash   \n",
      "...                          ...                   ...   \n",
      "3307  PIMEQ02_excl_ccy_EOD_batch                  Cash   \n",
      "3308  PIMEQ02_excl_ccy_EOD_batch                  Cash   \n",
      "3309  PIMEQ02_excl_ccy_EOD_batch                  Cash   \n",
      "3310  PIMEQ02_excl_ccy_EOD_batch                  Cash   \n",
      "3311  PIMEQ02_excl_ccy_EOD_batch                  Cash   \n",
      "\n",
      "      portfolio_owner_workgroup benchmark_owner_workgroup  \\\n",
      "0                     Corporate                      None   \n",
      "1                     Corporate                      None   \n",
      "2                     Corporate                      None   \n",
      "3                     Corporate                      None   \n",
      "4                     Corporate                      None   \n",
      "...                         ...                       ...   \n",
      "3307                  Corporate                      None   \n",
      "3308                  Corporate                      None   \n",
      "3309                  Corporate                      None   \n",
      "3310                  Corporate                      None   \n",
      "3311                  Corporate                      None   \n",
      "\n",
      "      show_benchmark_assets_not_held  source_id             as_of_datetime  \\\n",
      "0                              false          2 2023-09-12 06:54:41.166495   \n",
      "1                              false          2 2023-09-12 06:54:41.166495   \n",
      "2                              false          2 2023-09-12 06:54:41.166495   \n",
      "3                              false          2 2023-09-12 06:54:41.166495   \n",
      "4                              false          2 2023-09-12 06:54:41.166495   \n",
      "...                              ...        ...                        ...   \n",
      "3307                           false          2 2023-09-25 23:17:02.097714   \n",
      "3308                           false          2 2023-09-25 23:17:02.097714   \n",
      "3309                           false          2 2023-09-25 23:17:02.097714   \n",
      "3310                           false          2 2023-09-25 23:17:02.097714   \n",
      "3311                           false          2 2023-09-25 23:17:02.097714   \n",
      "\n",
      "      version           created_datetime      last_updated_datetime  \n",
      "0           1 2023-09-12 06:54:41.166495 2023-09-12 06:54:41.166495  \n",
      "1           1 2023-09-12 06:54:41.166495 2023-09-12 06:54:41.166495  \n",
      "2           1 2023-09-12 06:54:41.166495 2023-09-12 06:54:41.166495  \n",
      "3           1 2023-09-12 06:54:41.166495 2023-09-12 06:54:41.166495  \n",
      "4           1 2023-09-12 06:54:41.166495 2023-09-12 06:54:41.166495  \n",
      "...       ...                        ...                        ...  \n",
      "3307        1 2023-09-25 23:17:02.097714 2023-09-25 23:17:02.097714  \n",
      "3308        1 2023-09-25 23:17:02.097714 2023-09-25 23:17:02.097714  \n",
      "3309        1 2023-09-25 23:17:02.097714 2023-09-25 23:17:02.097714  \n",
      "3310        1 2023-09-25 23:17:02.097714 2023-09-25 23:17:02.097714  \n",
      "3311        1 2023-09-25 23:17:02.097714 2023-09-25 23:17:02.097714  \n",
      "\n",
      "[3312 rows x 67 columns]\n"
     ]
    }
   ],
   "source": [
    "conn = psycopg2.connect(\n",
    "        database=\"qs\",\n",
    "        user=\"elton\",\n",
    "        password=\"Y8ze1eFaSWltR1zl43fr\",\n",
    "        host=\"172.30.180.232\",\n",
    "        port= '5432'\n",
    "        )\n",
    "\n",
    "cursor = conn.cursor()\n",
    "query = '''\n",
    "    SELECT asset_data.*, header.*\n",
    "    FROM acq_msci_barra.risk_report_asset_position_data AS asset_data\n",
    "    LEFT JOIN acq_msci_barra.risk_report_asset_position_header AS header\n",
    "    ON asset_data.report_id = header.report_id\n",
    "'''\n",
    "df = pd.read_sql(query, conn)\n",
    "print(df)"
   ]
  },
  {
   "cell_type": "code",
   "execution_count": 24,
   "id": "fa36b685",
   "metadata": {},
   "outputs": [
    {
     "data": {
      "text/html": [
       "<div>\n",
       "<style scoped>\n",
       "    .dataframe tbody tr th:only-of-type {\n",
       "        vertical-align: middle;\n",
       "    }\n",
       "\n",
       "    .dataframe tbody tr th {\n",
       "        vertical-align: top;\n",
       "    }\n",
       "\n",
       "    .dataframe thead th {\n",
       "        text-align: right;\n",
       "    }\n",
       "</style>\n",
       "<table border=\"1\" class=\"dataframe\">\n",
       "  <thead>\n",
       "    <tr style=\"text-align: right;\">\n",
       "      <th></th>\n",
       "      <th>parent_node</th>\n",
       "      <th>total_net_portfolio_risk</th>\n",
       "      <th>client_name</th>\n",
       "      <th>base_currency</th>\n",
       "      <th>risk_model</th>\n",
       "      <th>analysis_date</th>\n",
       "      <th>portfolio</th>\n",
       "      <th>benchmark</th>\n",
       "    </tr>\n",
       "  </thead>\n",
       "  <tbody>\n",
       "    <tr>\n",
       "      <th>49</th>\n",
       "      <td>/Total/Local Excess/Residual/Common Factor</td>\n",
       "      <td>0.413606</td>\n",
       "      <td>Guotai Junan International Asset Management (S...</td>\n",
       "      <td>USD</td>\n",
       "      <td>ASE2S</td>\n",
       "      <td>2023-09-11</td>\n",
       "      <td>SGADF_EOD_batch</td>\n",
       "      <td>Cash</td>\n",
       "    </tr>\n",
       "    <tr>\n",
       "      <th>2</th>\n",
       "      <td>/Total/Currency</td>\n",
       "      <td>0.001091</td>\n",
       "      <td>Guotai Junan International Asset Management (S...</td>\n",
       "      <td>USD</td>\n",
       "      <td>ASE2S</td>\n",
       "      <td>2023-09-11</td>\n",
       "      <td>SGADF_EOD_batch</td>\n",
       "      <td>Cash</td>\n",
       "    </tr>\n",
       "    <tr>\n",
       "      <th>44</th>\n",
       "      <td>/</td>\n",
       "      <td>2.366058</td>\n",
       "      <td>Guotai Junan International Asset Management (S...</td>\n",
       "      <td>USD</td>\n",
       "      <td>ASE2S</td>\n",
       "      <td>2023-09-11</td>\n",
       "      <td>SGADF_EOD_batch</td>\n",
       "      <td>Cash</td>\n",
       "    </tr>\n",
       "    <tr>\n",
       "      <th>27</th>\n",
       "      <td>/Total/Local Excess/Residual/Common Factor/Cou...</td>\n",
       "      <td>0.048387</td>\n",
       "      <td>Guotai Junan International Asset Management (S...</td>\n",
       "      <td>USD</td>\n",
       "      <td>ASE2S</td>\n",
       "      <td>2023-09-11</td>\n",
       "      <td>SGADF_EOD_batch</td>\n",
       "      <td>Cash</td>\n",
       "    </tr>\n",
       "    <tr>\n",
       "      <th>102</th>\n",
       "      <td>/Total/Local Excess</td>\n",
       "      <td>0.026607</td>\n",
       "      <td>Guotai Junan International Asset Management (S...</td>\n",
       "      <td>USD</td>\n",
       "      <td>ASE2S</td>\n",
       "      <td>2023-09-11</td>\n",
       "      <td>SGADF_EOD_batch</td>\n",
       "      <td>Cash</td>\n",
       "    </tr>\n",
       "  </tbody>\n",
       "</table>\n",
       "</div>"
      ],
      "text/plain": [
       "                                           parent_node  \\\n",
       "49          /Total/Local Excess/Residual/Common Factor   \n",
       "2                                      /Total/Currency   \n",
       "44                                                   /   \n",
       "27   /Total/Local Excess/Residual/Common Factor/Cou...   \n",
       "102                                /Total/Local Excess   \n",
       "\n",
       "     total_net_portfolio_risk  \\\n",
       "49                   0.413606   \n",
       "2                    0.001091   \n",
       "44                   2.366058   \n",
       "27                   0.048387   \n",
       "102                  0.026607   \n",
       "\n",
       "                                           client_name base_currency  \\\n",
       "49   Guotai Junan International Asset Management (S...           USD   \n",
       "2    Guotai Junan International Asset Management (S...           USD   \n",
       "44   Guotai Junan International Asset Management (S...           USD   \n",
       "27   Guotai Junan International Asset Management (S...           USD   \n",
       "102  Guotai Junan International Asset Management (S...           USD   \n",
       "\n",
       "    risk_model analysis_date        portfolio benchmark  \n",
       "49       ASE2S    2023-09-11  SGADF_EOD_batch      Cash  \n",
       "2        ASE2S    2023-09-11  SGADF_EOD_batch      Cash  \n",
       "44       ASE2S    2023-09-11  SGADF_EOD_batch      Cash  \n",
       "27       ASE2S    2023-09-11  SGADF_EOD_batch      Cash  \n",
       "102      ASE2S    2023-09-11  SGADF_EOD_batch      Cash  "
      ]
     },
     "execution_count": 24,
     "metadata": {},
     "output_type": "execute_result"
    }
   ],
   "source": [
    "query = '''\n",
    "    SELECT \n",
    "          t1.parent_node\n",
    "          ,SUM(t1.net_portfolio_risk_contribution) AS total_net_portfolio_risk\n",
    "          ,t2.client_name\n",
    "          ,t2.base_currency\n",
    "          ,t2.risk_model\n",
    "          ,t2.analysis_date\n",
    "          ,t2.portfolio\n",
    "          ,t2.benchmark\n",
    "    FROM (\n",
    "        SELECT *\n",
    "        FROM acq_msci_barra.risk_report_risk_attribution_data\n",
    "        WHERE NOT (parent_node = '/Total/Local Excess/Residual' AND risk_source <> 'Specific')\n",
    "          AND NOT (parent_node = '/Total/Local Excess' AND risk_source <> 'Market Timing')\n",
    "    ) AS t1\n",
    "    LEFT JOIN acq_msci_barra.risk_report_risk_attribution_header AS t2\n",
    "    ON t1.report_id = t2.report_id\n",
    "    WHERE t2.base_currency = 'USD'\n",
    "        AND t2.analysis_date >= '2023-06-01'\n",
    "        AND t2.risk_model = 'ASE2S'\n",
    "        AND t2.portfolio = 'SGADF_EOD_batch'\n",
    "        AND t2.benchmark = 'Cash'\n",
    "        AND t2.client_name = 'Guotai Junan International Asset Management (Singapore) Pte Limited'\n",
    "    GROUP BY \n",
    "        t2.client_name\n",
    "        ,t2.base_currency\n",
    "        ,t2.risk_model\n",
    "        ,t2.portfolio\n",
    "        ,t2.benchmark\n",
    "        ,t2.analysis_date\n",
    "        ,t1.parent_node\n",
    "'''\n",
    "\n",
    "df = pd.read_sql(query, conn)\n",
    "df = df.sort_values('analysis_date')\n",
    "df.head()"
   ]
  },
  {
   "cell_type": "code",
   "execution_count": 25,
   "id": "fc22d71c",
   "metadata": {},
   "outputs": [
    {
     "data": {
      "text/plain": [
       "array(['/Total/Local Excess/Residual/Common Factor', '/Total/Currency',\n",
       "       '/', '/Total/Local Excess/Residual/Common Factor/Country',\n",
       "       '/Total/Local Excess', '/Total', '/Total/Local Excess/Residual',\n",
       "       '/Total/Local Excess/Residual/Common Factor/Risk Indices',\n",
       "       '/Total/Local Excess/Residual/Common Factor/Industry',\n",
       "       '/Total/Local Excess/Residual/Common Factor/Asia Equity'],\n",
       "      dtype=object)"
      ]
     },
     "execution_count": 25,
     "metadata": {},
     "output_type": "execute_result"
    }
   ],
   "source": [
    "df['parent_node'].unique()"
   ]
  },
  {
   "cell_type": "code",
   "execution_count": 26,
   "id": "19d62334",
   "metadata": {},
   "outputs": [],
   "source": [
    "categories_map = {\n",
    "    '/Total/Local Excess/Residual/Common Factor/Industry': 'Industry',\n",
    "    '/Total/Currency': 'Currency',\n",
    "    '/Total/Local Excess/Residual/Common Factor/Risk Indices': 'Risk Indices',\n",
    "    '/Total/Local Excess/Residual': 'Specific',\n",
    "    '/Total/Local Excess/Residual/Common Factor/Country': 'Country',\n",
    "    '/Total/Local Excess': 'Market Timing',\n",
    "    '/': 'Ex-Ante Risk'\n",
    "}"
   ]
  },
  {
   "cell_type": "code",
   "execution_count": 27,
   "id": "77dac9b2",
   "metadata": {},
   "outputs": [
    {
     "data": {
      "text/html": [
       "<div>\n",
       "<style scoped>\n",
       "    .dataframe tbody tr th:only-of-type {\n",
       "        vertical-align: middle;\n",
       "    }\n",
       "\n",
       "    .dataframe tbody tr th {\n",
       "        vertical-align: top;\n",
       "    }\n",
       "\n",
       "    .dataframe thead th {\n",
       "        text-align: right;\n",
       "    }\n",
       "</style>\n",
       "<table border=\"1\" class=\"dataframe\">\n",
       "  <thead>\n",
       "    <tr style=\"text-align: right;\">\n",
       "      <th></th>\n",
       "      <th>parent_node</th>\n",
       "      <th>total_net_portfolio_risk</th>\n",
       "      <th>client_name</th>\n",
       "      <th>base_currency</th>\n",
       "      <th>risk_model</th>\n",
       "      <th>analysis_date</th>\n",
       "      <th>portfolio</th>\n",
       "      <th>benchmark</th>\n",
       "    </tr>\n",
       "  </thead>\n",
       "  <tbody>\n",
       "    <tr>\n",
       "      <th>49</th>\n",
       "      <td>/Total/Local Excess/Residual/Common Factor</td>\n",
       "      <td>0.413606</td>\n",
       "      <td>Guotai Junan International Asset Management (S...</td>\n",
       "      <td>USD</td>\n",
       "      <td>ASE2S</td>\n",
       "      <td>2023-09-11</td>\n",
       "      <td>SGADF_EOD_batch</td>\n",
       "      <td>Cash</td>\n",
       "    </tr>\n",
       "    <tr>\n",
       "      <th>2</th>\n",
       "      <td>/Total/Currency</td>\n",
       "      <td>0.001091</td>\n",
       "      <td>Guotai Junan International Asset Management (S...</td>\n",
       "      <td>USD</td>\n",
       "      <td>ASE2S</td>\n",
       "      <td>2023-09-11</td>\n",
       "      <td>SGADF_EOD_batch</td>\n",
       "      <td>Cash</td>\n",
       "    </tr>\n",
       "    <tr>\n",
       "      <th>44</th>\n",
       "      <td>/</td>\n",
       "      <td>2.366058</td>\n",
       "      <td>Guotai Junan International Asset Management (S...</td>\n",
       "      <td>USD</td>\n",
       "      <td>ASE2S</td>\n",
       "      <td>2023-09-11</td>\n",
       "      <td>SGADF_EOD_batch</td>\n",
       "      <td>Cash</td>\n",
       "    </tr>\n",
       "    <tr>\n",
       "      <th>27</th>\n",
       "      <td>/Total/Local Excess/Residual/Common Factor/Cou...</td>\n",
       "      <td>0.048387</td>\n",
       "      <td>Guotai Junan International Asset Management (S...</td>\n",
       "      <td>USD</td>\n",
       "      <td>ASE2S</td>\n",
       "      <td>2023-09-11</td>\n",
       "      <td>SGADF_EOD_batch</td>\n",
       "      <td>Cash</td>\n",
       "    </tr>\n",
       "    <tr>\n",
       "      <th>102</th>\n",
       "      <td>/Total/Local Excess</td>\n",
       "      <td>0.026607</td>\n",
       "      <td>Guotai Junan International Asset Management (S...</td>\n",
       "      <td>USD</td>\n",
       "      <td>ASE2S</td>\n",
       "      <td>2023-09-11</td>\n",
       "      <td>SGADF_EOD_batch</td>\n",
       "      <td>Cash</td>\n",
       "    </tr>\n",
       "    <tr>\n",
       "      <th>...</th>\n",
       "      <td>...</td>\n",
       "      <td>...</td>\n",
       "      <td>...</td>\n",
       "      <td>...</td>\n",
       "      <td>...</td>\n",
       "      <td>...</td>\n",
       "      <td>...</td>\n",
       "      <td>...</td>\n",
       "    </tr>\n",
       "    <tr>\n",
       "      <th>41</th>\n",
       "      <td>/Total/Local Excess/Residual/Common Factor</td>\n",
       "      <td>0.435589</td>\n",
       "      <td>Guotai Junan International Asset Management (S...</td>\n",
       "      <td>USD</td>\n",
       "      <td>ASE2S</td>\n",
       "      <td>2023-09-25</td>\n",
       "      <td>SGADF_EOD_batch</td>\n",
       "      <td>Cash</td>\n",
       "    </tr>\n",
       "    <tr>\n",
       "      <th>51</th>\n",
       "      <td>/Total/Local Excess/Residual/Common Factor/Ris...</td>\n",
       "      <td>0.197245</td>\n",
       "      <td>Guotai Junan International Asset Management (S...</td>\n",
       "      <td>USD</td>\n",
       "      <td>ASE2S</td>\n",
       "      <td>2023-09-25</td>\n",
       "      <td>SGADF_EOD_batch</td>\n",
       "      <td>Cash</td>\n",
       "    </tr>\n",
       "    <tr>\n",
       "      <th>74</th>\n",
       "      <td>/Total</td>\n",
       "      <td>2.461617</td>\n",
       "      <td>Guotai Junan International Asset Management (S...</td>\n",
       "      <td>USD</td>\n",
       "      <td>ASE2S</td>\n",
       "      <td>2023-09-25</td>\n",
       "      <td>SGADF_EOD_batch</td>\n",
       "      <td>Cash</td>\n",
       "    </tr>\n",
       "    <tr>\n",
       "      <th>100</th>\n",
       "      <td>/Total/Local Excess/Residual/Common Factor/Cou...</td>\n",
       "      <td>0.039020</td>\n",
       "      <td>Guotai Junan International Asset Management (S...</td>\n",
       "      <td>USD</td>\n",
       "      <td>ASE2S</td>\n",
       "      <td>2023-09-25</td>\n",
       "      <td>SGADF_EOD_batch</td>\n",
       "      <td>Cash</td>\n",
       "    </tr>\n",
       "    <tr>\n",
       "      <th>64</th>\n",
       "      <td>/Total/Local Excess</td>\n",
       "      <td>0.035584</td>\n",
       "      <td>Guotai Junan International Asset Management (S...</td>\n",
       "      <td>USD</td>\n",
       "      <td>ASE2S</td>\n",
       "      <td>2023-09-25</td>\n",
       "      <td>SGADF_EOD_batch</td>\n",
       "      <td>Cash</td>\n",
       "    </tr>\n",
       "  </tbody>\n",
       "</table>\n",
       "<p>110 rows × 8 columns</p>\n",
       "</div>"
      ],
      "text/plain": [
       "                                           parent_node  \\\n",
       "49          /Total/Local Excess/Residual/Common Factor   \n",
       "2                                      /Total/Currency   \n",
       "44                                                   /   \n",
       "27   /Total/Local Excess/Residual/Common Factor/Cou...   \n",
       "102                                /Total/Local Excess   \n",
       "..                                                 ...   \n",
       "41          /Total/Local Excess/Residual/Common Factor   \n",
       "51   /Total/Local Excess/Residual/Common Factor/Ris...   \n",
       "74                                              /Total   \n",
       "100  /Total/Local Excess/Residual/Common Factor/Cou...   \n",
       "64                                 /Total/Local Excess   \n",
       "\n",
       "     total_net_portfolio_risk  \\\n",
       "49                   0.413606   \n",
       "2                    0.001091   \n",
       "44                   2.366058   \n",
       "27                   0.048387   \n",
       "102                  0.026607   \n",
       "..                        ...   \n",
       "41                   0.435589   \n",
       "51                   0.197245   \n",
       "74                   2.461617   \n",
       "100                  0.039020   \n",
       "64                   0.035584   \n",
       "\n",
       "                                           client_name base_currency  \\\n",
       "49   Guotai Junan International Asset Management (S...           USD   \n",
       "2    Guotai Junan International Asset Management (S...           USD   \n",
       "44   Guotai Junan International Asset Management (S...           USD   \n",
       "27   Guotai Junan International Asset Management (S...           USD   \n",
       "102  Guotai Junan International Asset Management (S...           USD   \n",
       "..                                                 ...           ...   \n",
       "41   Guotai Junan International Asset Management (S...           USD   \n",
       "51   Guotai Junan International Asset Management (S...           USD   \n",
       "74   Guotai Junan International Asset Management (S...           USD   \n",
       "100  Guotai Junan International Asset Management (S...           USD   \n",
       "64   Guotai Junan International Asset Management (S...           USD   \n",
       "\n",
       "    risk_model analysis_date        portfolio benchmark  \n",
       "49       ASE2S    2023-09-11  SGADF_EOD_batch      Cash  \n",
       "2        ASE2S    2023-09-11  SGADF_EOD_batch      Cash  \n",
       "44       ASE2S    2023-09-11  SGADF_EOD_batch      Cash  \n",
       "27       ASE2S    2023-09-11  SGADF_EOD_batch      Cash  \n",
       "102      ASE2S    2023-09-11  SGADF_EOD_batch      Cash  \n",
       "..         ...           ...              ...       ...  \n",
       "41       ASE2S    2023-09-25  SGADF_EOD_batch      Cash  \n",
       "51       ASE2S    2023-09-25  SGADF_EOD_batch      Cash  \n",
       "74       ASE2S    2023-09-25  SGADF_EOD_batch      Cash  \n",
       "100      ASE2S    2023-09-25  SGADF_EOD_batch      Cash  \n",
       "64       ASE2S    2023-09-25  SGADF_EOD_batch      Cash  \n",
       "\n",
       "[110 rows x 8 columns]"
      ]
     },
     "execution_count": 27,
     "metadata": {},
     "output_type": "execute_result"
    }
   ],
   "source": [
    "df1 = df.copy()\n",
    "df1\n",
    "# df1.to_json(\"data1.json\", orient=\"columns\")"
   ]
  },
  {
   "cell_type": "code",
   "execution_count": 13,
   "id": "09de5418",
   "metadata": {},
   "outputs": [],
   "source": [
    "df['parent_node'] = df['parent_node'].replace(categories_map)\n",
    "df = df[df['parent_node'].isin(list(categories_map.values()))]\n",
    "df['analysis_date'] = pd.to_datetime(df['analysis_date'])\n",
    "# df = df.sort_values(by=['parent_node', 'analysis_date'])\n",
    "df = df[df['analysis_date'].dt.month == 6] \n",
    "# Generate business days for the x-axis\n",
    "df['analysis_date'] = df['analysis_date'].dt.strftime('%y-%m-%d')\n",
    "\n",
    "colors = ['#99FF99', '#A0A0A0', '#FFFF33', '#3399FF', '#990000', '#001933']\n",
    "df.to_json(\"bar_data_rec.json\", orient=\"records\")"
   ]
  },
  {
   "cell_type": "code",
   "execution_count": 28,
   "id": "701d7dd4",
   "metadata": {},
   "outputs": [
    {
     "name": "stdout",
     "output_type": "stream",
     "text": [
      "2023-09-11 00:00:00\n",
      "2023-09-25 00:00:00\n"
     ]
    },
    {
     "data": {
      "application/vnd.plotly.v1+json": {
       "config": {
        "plotlyServerURL": "https://plot.ly"
       },
       "data": [
        {
         "alignmentgroup": "True",
         "hovertemplate": "Parent Node=Country<br>analysis_date=%{x}<br>Total Net Portfolio Risk=%{y}<extra></extra>",
         "legendgroup": "Country",
         "marker": {
          "color": "#99FF99",
          "pattern": {
           "shape": ""
          }
         },
         "name": "Country",
         "offsetgroup": "Country",
         "orientation": "v",
         "showlegend": true,
         "textposition": "auto",
         "type": "bar",
         "x": [
          "2023-09-11T00:00:00",
          "2023-09-12T00:00:00",
          "2023-09-13T00:00:00",
          "2023-09-14T00:00:00",
          "2023-09-15T00:00:00",
          "2023-09-18T00:00:00",
          "2023-09-19T00:00:00",
          "2023-09-20T00:00:00",
          "2023-09-21T00:00:00",
          "2023-09-22T00:00:00",
          "2023-09-25T00:00:00"
         ],
         "xaxis": "x",
         "y": [
          0.04838699999999999,
          0.05118299999999999,
          0.07745400000000001,
          0.069696,
          0.040497,
          0.023172,
          0.031112,
          0.035970999999999996,
          0.039391,
          0.03639400000000001,
          0.039020000000000006
         ],
         "yaxis": "y"
        },
        {
         "alignmentgroup": "True",
         "hovertemplate": "Parent Node=Currency<br>analysis_date=%{x}<br>Total Net Portfolio Risk=%{y}<extra></extra>",
         "legendgroup": "Currency",
         "marker": {
          "color": "#A0A0A0",
          "pattern": {
           "shape": ""
          }
         },
         "name": "Currency",
         "offsetgroup": "Currency",
         "orientation": "v",
         "showlegend": true,
         "textposition": "auto",
         "type": "bar",
         "x": [
          "2023-09-11T00:00:00",
          "2023-09-12T00:00:00",
          "2023-09-13T00:00:00",
          "2023-09-14T00:00:00",
          "2023-09-15T00:00:00",
          "2023-09-18T00:00:00",
          "2023-09-19T00:00:00",
          "2023-09-20T00:00:00",
          "2023-09-21T00:00:00",
          "2023-09-22T00:00:00",
          "2023-09-25T00:00:00"
         ],
         "xaxis": "x",
         "y": [
          0.001091,
          0.00017100000000000006,
          -0.009866,
          -0.0018310000000000002,
          0.028506999999999998,
          0.026582,
          0.012530000000000001,
          0.008759,
          -0.009787999999999998,
          0.004221000000000001,
          -0.0035680000000000004
         ],
         "yaxis": "y"
        },
        {
         "alignmentgroup": "True",
         "hovertemplate": "Parent Node=Industry<br>analysis_date=%{x}<br>Total Net Portfolio Risk=%{y}<extra></extra>",
         "legendgroup": "Industry",
         "marker": {
          "color": "#FFFF33",
          "pattern": {
           "shape": ""
          }
         },
         "name": "Industry",
         "offsetgroup": "Industry",
         "orientation": "v",
         "showlegend": true,
         "textposition": "auto",
         "type": "bar",
         "x": [
          "2023-09-11T00:00:00",
          "2023-09-12T00:00:00",
          "2023-09-13T00:00:00",
          "2023-09-14T00:00:00",
          "2023-09-15T00:00:00",
          "2023-09-18T00:00:00",
          "2023-09-19T00:00:00",
          "2023-09-20T00:00:00",
          "2023-09-21T00:00:00",
          "2023-09-22T00:00:00",
          "2023-09-25T00:00:00"
         ],
         "xaxis": "x",
         "y": [
          0.20445800000000003,
          0.21058200000000002,
          0.22803600000000002,
          0.24901800000000002,
          0.247524,
          0.22973200000000005,
          0.20409099999999997,
          0.188443,
          0.185252,
          0.212819,
          0.21738200000000002
         ],
         "yaxis": "y"
        },
        {
         "alignmentgroup": "True",
         "hovertemplate": "Parent Node=Market Timing<br>analysis_date=%{x}<br>Total Net Portfolio Risk=%{y}<extra></extra>",
         "legendgroup": "Market Timing",
         "marker": {
          "color": "#3399FF",
          "pattern": {
           "shape": ""
          }
         },
         "name": "Market Timing",
         "offsetgroup": "Market Timing",
         "orientation": "v",
         "showlegend": true,
         "textposition": "auto",
         "type": "bar",
         "x": [
          "2023-09-11T00:00:00",
          "2023-09-12T00:00:00",
          "2023-09-13T00:00:00",
          "2023-09-14T00:00:00",
          "2023-09-15T00:00:00",
          "2023-09-18T00:00:00",
          "2023-09-19T00:00:00",
          "2023-09-20T00:00:00",
          "2023-09-21T00:00:00",
          "2023-09-22T00:00:00",
          "2023-09-25T00:00:00"
         ],
         "xaxis": "x",
         "y": [
          0.026607,
          0.026095,
          0.059804,
          0.027638,
          0.001115,
          0.000286,
          0.000496,
          0.009774,
          0.065213,
          0.018892,
          0.035584
         ],
         "yaxis": "y"
        },
        {
         "alignmentgroup": "True",
         "hovertemplate": "Parent Node=Risk Indices<br>analysis_date=%{x}<br>Total Net Portfolio Risk=%{y}<extra></extra>",
         "legendgroup": "Risk Indices",
         "marker": {
          "color": "#990000",
          "pattern": {
           "shape": ""
          }
         },
         "name": "Risk Indices",
         "offsetgroup": "Risk Indices",
         "orientation": "v",
         "showlegend": true,
         "textposition": "auto",
         "type": "bar",
         "x": [
          "2023-09-11T00:00:00",
          "2023-09-12T00:00:00",
          "2023-09-13T00:00:00",
          "2023-09-14T00:00:00",
          "2023-09-15T00:00:00",
          "2023-09-18T00:00:00",
          "2023-09-19T00:00:00",
          "2023-09-20T00:00:00",
          "2023-09-21T00:00:00",
          "2023-09-22T00:00:00",
          "2023-09-25T00:00:00"
         ],
         "xaxis": "x",
         "y": [
          0.17708400000000002,
          0.196401,
          0.21708800000000003,
          0.22526200000000002,
          0.17920099999999997,
          0.16684,
          0.168587,
          0.13674099999999997,
          0.17836599999999997,
          0.17705399999999996,
          0.197245
         ],
         "yaxis": "y"
        },
        {
         "alignmentgroup": "True",
         "hovertemplate": "Parent Node=Specific<br>analysis_date=%{x}<br>Total Net Portfolio Risk=%{y}<extra></extra>",
         "legendgroup": "Specific",
         "marker": {
          "color": "#001933",
          "pattern": {
           "shape": ""
          }
         },
         "name": "Specific",
         "offsetgroup": "Specific",
         "orientation": "v",
         "showlegend": true,
         "textposition": "auto",
         "type": "bar",
         "x": [
          "2023-09-11T00:00:00",
          "2023-09-12T00:00:00",
          "2023-09-13T00:00:00",
          "2023-09-14T00:00:00",
          "2023-09-15T00:00:00",
          "2023-09-18T00:00:00",
          "2023-09-19T00:00:00",
          "2023-09-20T00:00:00",
          "2023-09-21T00:00:00",
          "2023-09-22T00:00:00",
          "2023-09-25T00:00:00"
         ],
         "xaxis": "x",
         "y": [
          1.924755,
          1.947633,
          1.902457,
          1.966035,
          2.015376,
          2.023176,
          2.008054,
          2.013665,
          1.967661,
          2.005419,
          1.994009
         ],
         "yaxis": "y"
        },
        {
         "marker": {
          "color": "#004C99"
         },
         "mode": "markers+lines",
         "name": "Ex-ante risk",
         "type": "scatter",
         "x": [
          "2023-09-11T00:00:00",
          "2023-09-12T00:00:00",
          "2023-09-13T00:00:00",
          "2023-09-14T00:00:00",
          "2023-09-15T00:00:00",
          "2023-09-18T00:00:00",
          "2023-09-19T00:00:00",
          "2023-09-20T00:00:00",
          "2023-09-21T00:00:00",
          "2023-09-22T00:00:00",
          "2023-09-25T00:00:00"
         ],
         "y": [
          2.366058,
          2.413936,
          2.44298,
          2.512743,
          2.52364,
          2.47731,
          2.420043,
          2.384874,
          2.404703,
          2.441687,
          2.461616
         ]
        }
       ],
       "layout": {
        "barmode": "stack",
        "height": 600,
        "legend": {
         "title": {
          "text": "Parent Node"
         },
         "tracegroupgap": 0
        },
        "template": {
         "data": {
          "bar": [
           {
            "error_x": {
             "color": "#2a3f5f"
            },
            "error_y": {
             "color": "#2a3f5f"
            },
            "marker": {
             "line": {
              "color": "#E5ECF6",
              "width": 0.5
             },
             "pattern": {
              "fillmode": "overlay",
              "size": 10,
              "solidity": 0.2
             }
            },
            "type": "bar"
           }
          ],
          "barpolar": [
           {
            "marker": {
             "line": {
              "color": "#E5ECF6",
              "width": 0.5
             },
             "pattern": {
              "fillmode": "overlay",
              "size": 10,
              "solidity": 0.2
             }
            },
            "type": "barpolar"
           }
          ],
          "carpet": [
           {
            "aaxis": {
             "endlinecolor": "#2a3f5f",
             "gridcolor": "white",
             "linecolor": "white",
             "minorgridcolor": "white",
             "startlinecolor": "#2a3f5f"
            },
            "baxis": {
             "endlinecolor": "#2a3f5f",
             "gridcolor": "white",
             "linecolor": "white",
             "minorgridcolor": "white",
             "startlinecolor": "#2a3f5f"
            },
            "type": "carpet"
           }
          ],
          "choropleth": [
           {
            "colorbar": {
             "outlinewidth": 0,
             "ticks": ""
            },
            "type": "choropleth"
           }
          ],
          "contour": [
           {
            "colorbar": {
             "outlinewidth": 0,
             "ticks": ""
            },
            "colorscale": [
             [
              0,
              "#0d0887"
             ],
             [
              0.1111111111111111,
              "#46039f"
             ],
             [
              0.2222222222222222,
              "#7201a8"
             ],
             [
              0.3333333333333333,
              "#9c179e"
             ],
             [
              0.4444444444444444,
              "#bd3786"
             ],
             [
              0.5555555555555556,
              "#d8576b"
             ],
             [
              0.6666666666666666,
              "#ed7953"
             ],
             [
              0.7777777777777778,
              "#fb9f3a"
             ],
             [
              0.8888888888888888,
              "#fdca26"
             ],
             [
              1,
              "#f0f921"
             ]
            ],
            "type": "contour"
           }
          ],
          "contourcarpet": [
           {
            "colorbar": {
             "outlinewidth": 0,
             "ticks": ""
            },
            "type": "contourcarpet"
           }
          ],
          "heatmap": [
           {
            "colorbar": {
             "outlinewidth": 0,
             "ticks": ""
            },
            "colorscale": [
             [
              0,
              "#0d0887"
             ],
             [
              0.1111111111111111,
              "#46039f"
             ],
             [
              0.2222222222222222,
              "#7201a8"
             ],
             [
              0.3333333333333333,
              "#9c179e"
             ],
             [
              0.4444444444444444,
              "#bd3786"
             ],
             [
              0.5555555555555556,
              "#d8576b"
             ],
             [
              0.6666666666666666,
              "#ed7953"
             ],
             [
              0.7777777777777778,
              "#fb9f3a"
             ],
             [
              0.8888888888888888,
              "#fdca26"
             ],
             [
              1,
              "#f0f921"
             ]
            ],
            "type": "heatmap"
           }
          ],
          "heatmapgl": [
           {
            "colorbar": {
             "outlinewidth": 0,
             "ticks": ""
            },
            "colorscale": [
             [
              0,
              "#0d0887"
             ],
             [
              0.1111111111111111,
              "#46039f"
             ],
             [
              0.2222222222222222,
              "#7201a8"
             ],
             [
              0.3333333333333333,
              "#9c179e"
             ],
             [
              0.4444444444444444,
              "#bd3786"
             ],
             [
              0.5555555555555556,
              "#d8576b"
             ],
             [
              0.6666666666666666,
              "#ed7953"
             ],
             [
              0.7777777777777778,
              "#fb9f3a"
             ],
             [
              0.8888888888888888,
              "#fdca26"
             ],
             [
              1,
              "#f0f921"
             ]
            ],
            "type": "heatmapgl"
           }
          ],
          "histogram": [
           {
            "marker": {
             "pattern": {
              "fillmode": "overlay",
              "size": 10,
              "solidity": 0.2
             }
            },
            "type": "histogram"
           }
          ],
          "histogram2d": [
           {
            "colorbar": {
             "outlinewidth": 0,
             "ticks": ""
            },
            "colorscale": [
             [
              0,
              "#0d0887"
             ],
             [
              0.1111111111111111,
              "#46039f"
             ],
             [
              0.2222222222222222,
              "#7201a8"
             ],
             [
              0.3333333333333333,
              "#9c179e"
             ],
             [
              0.4444444444444444,
              "#bd3786"
             ],
             [
              0.5555555555555556,
              "#d8576b"
             ],
             [
              0.6666666666666666,
              "#ed7953"
             ],
             [
              0.7777777777777778,
              "#fb9f3a"
             ],
             [
              0.8888888888888888,
              "#fdca26"
             ],
             [
              1,
              "#f0f921"
             ]
            ],
            "type": "histogram2d"
           }
          ],
          "histogram2dcontour": [
           {
            "colorbar": {
             "outlinewidth": 0,
             "ticks": ""
            },
            "colorscale": [
             [
              0,
              "#0d0887"
             ],
             [
              0.1111111111111111,
              "#46039f"
             ],
             [
              0.2222222222222222,
              "#7201a8"
             ],
             [
              0.3333333333333333,
              "#9c179e"
             ],
             [
              0.4444444444444444,
              "#bd3786"
             ],
             [
              0.5555555555555556,
              "#d8576b"
             ],
             [
              0.6666666666666666,
              "#ed7953"
             ],
             [
              0.7777777777777778,
              "#fb9f3a"
             ],
             [
              0.8888888888888888,
              "#fdca26"
             ],
             [
              1,
              "#f0f921"
             ]
            ],
            "type": "histogram2dcontour"
           }
          ],
          "mesh3d": [
           {
            "colorbar": {
             "outlinewidth": 0,
             "ticks": ""
            },
            "type": "mesh3d"
           }
          ],
          "parcoords": [
           {
            "line": {
             "colorbar": {
              "outlinewidth": 0,
              "ticks": ""
             }
            },
            "type": "parcoords"
           }
          ],
          "pie": [
           {
            "automargin": true,
            "type": "pie"
           }
          ],
          "scatter": [
           {
            "fillpattern": {
             "fillmode": "overlay",
             "size": 10,
             "solidity": 0.2
            },
            "type": "scatter"
           }
          ],
          "scatter3d": [
           {
            "line": {
             "colorbar": {
              "outlinewidth": 0,
              "ticks": ""
             }
            },
            "marker": {
             "colorbar": {
              "outlinewidth": 0,
              "ticks": ""
             }
            },
            "type": "scatter3d"
           }
          ],
          "scattercarpet": [
           {
            "marker": {
             "colorbar": {
              "outlinewidth": 0,
              "ticks": ""
             }
            },
            "type": "scattercarpet"
           }
          ],
          "scattergeo": [
           {
            "marker": {
             "colorbar": {
              "outlinewidth": 0,
              "ticks": ""
             }
            },
            "type": "scattergeo"
           }
          ],
          "scattergl": [
           {
            "marker": {
             "colorbar": {
              "outlinewidth": 0,
              "ticks": ""
             }
            },
            "type": "scattergl"
           }
          ],
          "scattermapbox": [
           {
            "marker": {
             "colorbar": {
              "outlinewidth": 0,
              "ticks": ""
             }
            },
            "type": "scattermapbox"
           }
          ],
          "scatterpolar": [
           {
            "marker": {
             "colorbar": {
              "outlinewidth": 0,
              "ticks": ""
             }
            },
            "type": "scatterpolar"
           }
          ],
          "scatterpolargl": [
           {
            "marker": {
             "colorbar": {
              "outlinewidth": 0,
              "ticks": ""
             }
            },
            "type": "scatterpolargl"
           }
          ],
          "scatterternary": [
           {
            "marker": {
             "colorbar": {
              "outlinewidth": 0,
              "ticks": ""
             }
            },
            "type": "scatterternary"
           }
          ],
          "surface": [
           {
            "colorbar": {
             "outlinewidth": 0,
             "ticks": ""
            },
            "colorscale": [
             [
              0,
              "#0d0887"
             ],
             [
              0.1111111111111111,
              "#46039f"
             ],
             [
              0.2222222222222222,
              "#7201a8"
             ],
             [
              0.3333333333333333,
              "#9c179e"
             ],
             [
              0.4444444444444444,
              "#bd3786"
             ],
             [
              0.5555555555555556,
              "#d8576b"
             ],
             [
              0.6666666666666666,
              "#ed7953"
             ],
             [
              0.7777777777777778,
              "#fb9f3a"
             ],
             [
              0.8888888888888888,
              "#fdca26"
             ],
             [
              1,
              "#f0f921"
             ]
            ],
            "type": "surface"
           }
          ],
          "table": [
           {
            "cells": {
             "fill": {
              "color": "#EBF0F8"
             },
             "line": {
              "color": "white"
             }
            },
            "header": {
             "fill": {
              "color": "#C8D4E3"
             },
             "line": {
              "color": "white"
             }
            },
            "type": "table"
           }
          ]
         },
         "layout": {
          "annotationdefaults": {
           "arrowcolor": "#2a3f5f",
           "arrowhead": 0,
           "arrowwidth": 1
          },
          "autotypenumbers": "strict",
          "coloraxis": {
           "colorbar": {
            "outlinewidth": 0,
            "ticks": ""
           }
          },
          "colorscale": {
           "diverging": [
            [
             0,
             "#8e0152"
            ],
            [
             0.1,
             "#c51b7d"
            ],
            [
             0.2,
             "#de77ae"
            ],
            [
             0.3,
             "#f1b6da"
            ],
            [
             0.4,
             "#fde0ef"
            ],
            [
             0.5,
             "#f7f7f7"
            ],
            [
             0.6,
             "#e6f5d0"
            ],
            [
             0.7,
             "#b8e186"
            ],
            [
             0.8,
             "#7fbc41"
            ],
            [
             0.9,
             "#4d9221"
            ],
            [
             1,
             "#276419"
            ]
           ],
           "sequential": [
            [
             0,
             "#0d0887"
            ],
            [
             0.1111111111111111,
             "#46039f"
            ],
            [
             0.2222222222222222,
             "#7201a8"
            ],
            [
             0.3333333333333333,
             "#9c179e"
            ],
            [
             0.4444444444444444,
             "#bd3786"
            ],
            [
             0.5555555555555556,
             "#d8576b"
            ],
            [
             0.6666666666666666,
             "#ed7953"
            ],
            [
             0.7777777777777778,
             "#fb9f3a"
            ],
            [
             0.8888888888888888,
             "#fdca26"
            ],
            [
             1,
             "#f0f921"
            ]
           ],
           "sequentialminus": [
            [
             0,
             "#0d0887"
            ],
            [
             0.1111111111111111,
             "#46039f"
            ],
            [
             0.2222222222222222,
             "#7201a8"
            ],
            [
             0.3333333333333333,
             "#9c179e"
            ],
            [
             0.4444444444444444,
             "#bd3786"
            ],
            [
             0.5555555555555556,
             "#d8576b"
            ],
            [
             0.6666666666666666,
             "#ed7953"
            ],
            [
             0.7777777777777778,
             "#fb9f3a"
            ],
            [
             0.8888888888888888,
             "#fdca26"
            ],
            [
             1,
             "#f0f921"
            ]
           ]
          },
          "colorway": [
           "#636efa",
           "#EF553B",
           "#00cc96",
           "#ab63fa",
           "#FFA15A",
           "#19d3f3",
           "#FF6692",
           "#B6E880",
           "#FF97FF",
           "#FECB52"
          ],
          "font": {
           "color": "#2a3f5f"
          },
          "geo": {
           "bgcolor": "white",
           "lakecolor": "white",
           "landcolor": "#E5ECF6",
           "showlakes": true,
           "showland": true,
           "subunitcolor": "white"
          },
          "hoverlabel": {
           "align": "left"
          },
          "hovermode": "closest",
          "mapbox": {
           "style": "light"
          },
          "paper_bgcolor": "white",
          "plot_bgcolor": "#E5ECF6",
          "polar": {
           "angularaxis": {
            "gridcolor": "white",
            "linecolor": "white",
            "ticks": ""
           },
           "bgcolor": "#E5ECF6",
           "radialaxis": {
            "gridcolor": "white",
            "linecolor": "white",
            "ticks": ""
           }
          },
          "scene": {
           "xaxis": {
            "backgroundcolor": "#E5ECF6",
            "gridcolor": "white",
            "gridwidth": 2,
            "linecolor": "white",
            "showbackground": true,
            "ticks": "",
            "zerolinecolor": "white"
           },
           "yaxis": {
            "backgroundcolor": "#E5ECF6",
            "gridcolor": "white",
            "gridwidth": 2,
            "linecolor": "white",
            "showbackground": true,
            "ticks": "",
            "zerolinecolor": "white"
           },
           "zaxis": {
            "backgroundcolor": "#E5ECF6",
            "gridcolor": "white",
            "gridwidth": 2,
            "linecolor": "white",
            "showbackground": true,
            "ticks": "",
            "zerolinecolor": "white"
           }
          },
          "shapedefaults": {
           "line": {
            "color": "#2a3f5f"
           }
          },
          "ternary": {
           "aaxis": {
            "gridcolor": "white",
            "linecolor": "white",
            "ticks": ""
           },
           "baxis": {
            "gridcolor": "white",
            "linecolor": "white",
            "ticks": ""
           },
           "bgcolor": "#E5ECF6",
           "caxis": {
            "gridcolor": "white",
            "linecolor": "white",
            "ticks": ""
           }
          },
          "title": {
           "x": 0.05
          },
          "xaxis": {
           "automargin": true,
           "gridcolor": "white",
           "linecolor": "white",
           "ticks": "",
           "title": {
            "standoff": 15
           },
           "zerolinecolor": "white",
           "zerolinewidth": 2
          },
          "yaxis": {
           "automargin": true,
           "gridcolor": "white",
           "linecolor": "white",
           "ticks": "",
           "title": {
            "standoff": 15
           },
           "zerolinecolor": "white",
           "zerolinewidth": 2
          }
         }
        },
        "title": {
         "text": "Stacked Bar Chart of Net Portfolio Risk by Parent Node"
        },
        "width": 1000,
        "xaxis": {
         "anchor": "y",
         "categoryarray": [
          "Industry",
          "Risk Indices",
          "Market Timing",
          "Currency",
          "Specific",
          "Country"
         ],
         "categoryorder": "array",
         "domain": [
          0,
          1
         ],
         "tickangle": 90,
         "ticktext": [
          "2023-09-11",
          "2023-09-12",
          "2023-09-13",
          "2023-09-14",
          "2023-09-15",
          "2023-09-18",
          "2023-09-19",
          "2023-09-20",
          "2023-09-21",
          "2023-09-22",
          "2023-09-25"
         ],
         "tickvals": [
          "2023-09-11T00:00:00",
          "2023-09-12T00:00:00",
          "2023-09-13T00:00:00",
          "2023-09-14T00:00:00",
          "2023-09-15T00:00:00",
          "2023-09-18T00:00:00",
          "2023-09-19T00:00:00",
          "2023-09-20T00:00:00",
          "2023-09-21T00:00:00",
          "2023-09-22T00:00:00",
          "2023-09-25T00:00:00"
         ],
         "title": {
          "text": "analysis_date"
         },
         "type": "category"
        },
        "yaxis": {
         "anchor": "x",
         "domain": [
          0,
          1
         ],
         "range": [
          -1,
          4
         ],
         "tickangle": 0,
         "title": {
          "text": "Total Net Portfolio Risk"
         }
        }
       }
      }
     },
     "metadata": {},
     "output_type": "display_data"
    }
   ],
   "source": [
    "import plotly.express as px\n",
    "import plotly.graph_objects as go\n",
    "\n",
    "df['parent_node'] = df['parent_node'].replace(categories_map)\n",
    "df = df[df['parent_node'].isin(list(categories_map.values()))]\n",
    "df['analysis_date'] = pd.to_datetime(df['analysis_date'])\n",
    "df = df.sort_values(by=['parent_node', 'analysis_date'])\n",
    "df = df[df['analysis_date'].dt.month == 9] \n",
    "# Generate business days for the x-axis\n",
    "\n",
    "print(df['analysis_date'].min())\n",
    "print(df['analysis_date'].max())\n",
    "business_days = pd.date_range(start=df['analysis_date'].min(), end=df['analysis_date'].max(), freq='B')\n",
    "# df['analysis_date'] = df['analysis_date'].dt.strftime('%y-%m-%d')\n",
    "\n",
    "colors = ['#99FF99', '#A0A0A0', '#FFFF33', '#3399FF', '#990000', '#001933']\n",
    "bar_df = df[~(df['parent_node'] == 'Ex-Ante Risk')]\n",
    "# bar_df_sorted = bar_df.sort_values(by='parent_node')\n",
    "fig = px.bar(bar_df, x='analysis_date', y='total_net_portfolio_risk', color='parent_node',\n",
    "             title='Stacked Bar Chart of Net Portfolio Risk by Parent Node',\n",
    "             labels={'parent_node': 'Parent Node', 'total_net_portfolio_risk': 'Total Net Portfolio Risk'},\n",
    "             height=600,\n",
    "             color_discrete_sequence=colors)\n",
    "\n",
    "fig.update_layout(barmode='stack', width=1000)\n",
    "fig.update_yaxes(range=[-1, 4], tickangle=0)\n",
    "desired_order = ['Industry', 'Risk Indices', 'Market Timing', 'Currency', 'Specific', 'Country']\n",
    "fig.update_xaxes(tickvals=business_days, ticktext=business_days.strftime('%Y-%m-%d'), tickangle=90, type='category', categoryorder= 'array', categoryarray=desired_order)\n",
    "\n",
    "ex_ante_risk_data = df[df['parent_node'] == 'Ex-Ante Risk']\n",
    "fig.add_trace(go.Scatter(\n",
    "    x=ex_ante_risk_data['analysis_date'],\n",
    "    y=ex_ante_risk_data['total_net_portfolio_risk'],\n",
    "    mode='markers+lines',\n",
    "    name='Ex-ante risk',\n",
    "    marker=dict(\n",
    "        color='#004C99'\n",
    "    )\n",
    "))\n",
    "\n",
    "fig.show()"
   ]
  },
  {
   "cell_type": "code",
   "execution_count": 29,
   "id": "e7e665d8",
   "metadata": {},
   "outputs": [
    {
     "data": {
      "text/html": [
       "<div>\n",
       "<style scoped>\n",
       "    .dataframe tbody tr th:only-of-type {\n",
       "        vertical-align: middle;\n",
       "    }\n",
       "\n",
       "    .dataframe tbody tr th {\n",
       "        vertical-align: top;\n",
       "    }\n",
       "\n",
       "    .dataframe thead th {\n",
       "        text-align: right;\n",
       "    }\n",
       "</style>\n",
       "<table border=\"1\" class=\"dataframe\">\n",
       "  <thead>\n",
       "    <tr style=\"text-align: right;\">\n",
       "      <th></th>\n",
       "      <th>parent_node</th>\n",
       "      <th>total_net_portfolio_risk</th>\n",
       "      <th>client_name</th>\n",
       "      <th>base_currency</th>\n",
       "      <th>risk_model</th>\n",
       "      <th>analysis_date</th>\n",
       "      <th>portfolio</th>\n",
       "      <th>benchmark</th>\n",
       "    </tr>\n",
       "  </thead>\n",
       "  <tbody>\n",
       "    <tr>\n",
       "      <th>27</th>\n",
       "      <td>Country</td>\n",
       "      <td>0.048387</td>\n",
       "      <td>Guotai Junan International Asset Management (S...</td>\n",
       "      <td>USD</td>\n",
       "      <td>ASE2S</td>\n",
       "      <td>2023-09-11</td>\n",
       "      <td>SGADF_EOD_batch</td>\n",
       "      <td>Cash</td>\n",
       "    </tr>\n",
       "    <tr>\n",
       "      <th>54</th>\n",
       "      <td>Country</td>\n",
       "      <td>0.051183</td>\n",
       "      <td>Guotai Junan International Asset Management (S...</td>\n",
       "      <td>USD</td>\n",
       "      <td>ASE2S</td>\n",
       "      <td>2023-09-12</td>\n",
       "      <td>SGADF_EOD_batch</td>\n",
       "      <td>Cash</td>\n",
       "    </tr>\n",
       "    <tr>\n",
       "      <th>43</th>\n",
       "      <td>Country</td>\n",
       "      <td>0.077454</td>\n",
       "      <td>Guotai Junan International Asset Management (S...</td>\n",
       "      <td>USD</td>\n",
       "      <td>ASE2S</td>\n",
       "      <td>2023-09-13</td>\n",
       "      <td>SGADF_EOD_batch</td>\n",
       "      <td>Cash</td>\n",
       "    </tr>\n",
       "    <tr>\n",
       "      <th>32</th>\n",
       "      <td>Country</td>\n",
       "      <td>0.069696</td>\n",
       "      <td>Guotai Junan International Asset Management (S...</td>\n",
       "      <td>USD</td>\n",
       "      <td>ASE2S</td>\n",
       "      <td>2023-09-14</td>\n",
       "      <td>SGADF_EOD_batch</td>\n",
       "      <td>Cash</td>\n",
       "    </tr>\n",
       "    <tr>\n",
       "      <th>103</th>\n",
       "      <td>Country</td>\n",
       "      <td>0.040497</td>\n",
       "      <td>Guotai Junan International Asset Management (S...</td>\n",
       "      <td>USD</td>\n",
       "      <td>ASE2S</td>\n",
       "      <td>2023-09-15</td>\n",
       "      <td>SGADF_EOD_batch</td>\n",
       "      <td>Cash</td>\n",
       "    </tr>\n",
       "  </tbody>\n",
       "</table>\n",
       "</div>"
      ],
      "text/plain": [
       "    parent_node  total_net_portfolio_risk  \\\n",
       "27      Country                  0.048387   \n",
       "54      Country                  0.051183   \n",
       "43      Country                  0.077454   \n",
       "32      Country                  0.069696   \n",
       "103     Country                  0.040497   \n",
       "\n",
       "                                           client_name base_currency  \\\n",
       "27   Guotai Junan International Asset Management (S...           USD   \n",
       "54   Guotai Junan International Asset Management (S...           USD   \n",
       "43   Guotai Junan International Asset Management (S...           USD   \n",
       "32   Guotai Junan International Asset Management (S...           USD   \n",
       "103  Guotai Junan International Asset Management (S...           USD   \n",
       "\n",
       "    risk_model analysis_date        portfolio benchmark  \n",
       "27       ASE2S    2023-09-11  SGADF_EOD_batch      Cash  \n",
       "54       ASE2S    2023-09-12  SGADF_EOD_batch      Cash  \n",
       "43       ASE2S    2023-09-13  SGADF_EOD_batch      Cash  \n",
       "32       ASE2S    2023-09-14  SGADF_EOD_batch      Cash  \n",
       "103      ASE2S    2023-09-15  SGADF_EOD_batch      Cash  "
      ]
     },
     "execution_count": 29,
     "metadata": {},
     "output_type": "execute_result"
    }
   ],
   "source": [
    "df.head()"
   ]
  },
  {
   "cell_type": "code",
   "execution_count": 32,
   "id": "a4e8fbfb",
   "metadata": {},
   "outputs": [
    {
     "data": {
      "text/html": [
       "<div>\n",
       "<style scoped>\n",
       "    .dataframe tbody tr th:only-of-type {\n",
       "        vertical-align: middle;\n",
       "    }\n",
       "\n",
       "    .dataframe tbody tr th {\n",
       "        vertical-align: top;\n",
       "    }\n",
       "\n",
       "    .dataframe thead th {\n",
       "        text-align: right;\n",
       "    }\n",
       "</style>\n",
       "<table border=\"1\" class=\"dataframe\">\n",
       "  <thead>\n",
       "    <tr style=\"text-align: right;\">\n",
       "      <th></th>\n",
       "      <th>factor</th>\n",
       "      <th>parent_node</th>\n",
       "      <th>portfolio_net_exposure</th>\n",
       "      <th>portfolio_long_exposure</th>\n",
       "      <th>portfolio_short_exposure</th>\n",
       "      <th>active_risk_pctg_contribution</th>\n",
       "      <th>client_name</th>\n",
       "      <th>base_currency</th>\n",
       "      <th>risk_model</th>\n",
       "      <th>analysis_date</th>\n",
       "      <th>portfolio</th>\n",
       "      <th>benchmark</th>\n",
       "    </tr>\n",
       "  </thead>\n",
       "  <tbody>\n",
       "  </tbody>\n",
       "</table>\n",
       "</div>"
      ],
      "text/plain": [
       "Empty DataFrame\n",
       "Columns: [factor, parent_node, portfolio_net_exposure, portfolio_long_exposure, portfolio_short_exposure, active_risk_pctg_contribution, client_name, base_currency, risk_model, analysis_date, portfolio, benchmark]\n",
       "Index: []"
      ]
     },
     "execution_count": 32,
     "metadata": {},
     "output_type": "execute_result"
    }
   ],
   "source": [
    "query = '''\n",
    "    SELECT t1.factor\n",
    "            ,t1.parent_node\n",
    "            ,SUM(t1.portfolio_net_exposure) AS portfolio_net_exposure\n",
    "            ,SUM(t1.portfolio_long_exposure) AS portfolio_long_exposure\n",
    "            ,SUM(t1.portfolio_short_exposure) AS portfolio_short_exposure\n",
    "            ,SUM(t1.active_risk_pctg_contribution) AS active_risk_pctg_contribution\n",
    "          ,t2.client_name\n",
    "          ,t2.base_currency\n",
    "          ,t2.risk_model\n",
    "          ,t2.analysis_date\n",
    "          ,t2.portfolio\n",
    "          ,t2.benchmark\n",
    "    FROM (\n",
    "        SELECT *\n",
    "        FROM acq_msci_barra.risk_report_factor_risk_data\n",
    "        WHERE parent_node IN ('/Industry', '/Risk Indices')\n",
    "    ) AS t1\n",
    "    LEFT JOIN acq_msci_barra.risk_report_factor_risk_header AS t2\n",
    "    ON t1.report_id = t2.report_id\n",
    "    WHERE t2.base_currency = 'USD'\n",
    "        AND t2.analysis_date = '2023-09-01'\n",
    "        AND t2.risk_model = 'ASE2S'\n",
    "        AND t2.portfolio = 'SGADF_EOD_batch'\n",
    "        AND t2.benchmark = 'Cash'\n",
    "        AND t2.client_name = 'Guotai Junan International Asset Management (Singapore) Pte Limited'\n",
    "    GROUP BY \n",
    "        t2.client_name\n",
    "        ,t2.base_currency\n",
    "        ,t2.risk_model\n",
    "        ,t2.portfolio\n",
    "        ,t2.benchmark\n",
    "        ,t2.analysis_date\n",
    "        ,t1.factor\n",
    "        ,t1.parent_node\n",
    "'''\n",
    "\n",
    "df = pd.read_sql(query, conn)\n",
    "df.head()"
   ]
  },
  {
   "cell_type": "code",
   "execution_count": null,
   "id": "d4841aba",
   "metadata": {},
   "outputs": [],
   "source": [
    "df = df[df['parent_node'] == '/Risk Indices']\n",
    "df = df[['factor', 'portfolio_net_exposure', 'portfolio_long_exposure',\n",
    "       'portfolio_short_exposure', 'active_risk_pctg_contribution']]\n",
    "\n",
    "top_10 = df.nlargest(10, 'portfolio_net_exposure')\n",
    "top_10\n",
    "pivot_df = df.pivot_table(index='factor', values=['portfolio_net_exposure', 'portfolio_long_exposure',\n",
    "                                                          'portfolio_short_exposure', 'active_risk_pctg_contribution'])\n",
    "pivot_df = pivot_df.reset_index()"
   ]
  },
  {
   "cell_type": "code",
   "execution_count": null,
   "id": "91daab3f",
   "metadata": {},
   "outputs": [
    {
     "ename": "NameError",
     "evalue": "name 'top_10' is not defined",
     "output_type": "error",
     "traceback": [
      "\u001b[1;31m---------------------------------------------------------------------------\u001b[0m",
      "\u001b[1;31mNameError\u001b[0m                                 Traceback (most recent call last)",
      "\u001b[1;32mC:\\Users\\ELTONN~1.INT\\AppData\\Local\\Temp/ipykernel_18328/2161162537.py\u001b[0m in \u001b[0;36m<module>\u001b[1;34m\u001b[0m\n\u001b[0;32m      9\u001b[0m for col, title in zip(['portfolio_net_exposure', 'portfolio_long_exposure', 'portfolio_short_exposure'],\n\u001b[0;32m     10\u001b[0m                       ['Portfolio Net Exposure', 'Portfolio Long Exposure', 'Portfolio Short Exposure']):\n\u001b[1;32m---> 11\u001b[1;33m     \u001b[0mfig\u001b[0m\u001b[1;33m.\u001b[0m\u001b[0madd_trace\u001b[0m\u001b[1;33m(\u001b[0m\u001b[0mgo\u001b[0m\u001b[1;33m.\u001b[0m\u001b[0mBar\u001b[0m\u001b[1;33m(\u001b[0m\u001b[0mx\u001b[0m\u001b[1;33m=\u001b[0m\u001b[0mtop_10\u001b[0m\u001b[1;33m[\u001b[0m\u001b[0mcol\u001b[0m\u001b[1;33m]\u001b[0m\u001b[1;33m,\u001b[0m \u001b[0my\u001b[0m\u001b[1;33m=\u001b[0m\u001b[0mtop_10\u001b[0m\u001b[1;33m[\u001b[0m\u001b[1;34m'factor'\u001b[0m\u001b[1;33m]\u001b[0m\u001b[1;33m,\u001b[0m \u001b[0morientation\u001b[0m\u001b[1;33m=\u001b[0m\u001b[1;34m'h'\u001b[0m\u001b[1;33m,\u001b[0m \u001b[0mname\u001b[0m\u001b[1;33m=\u001b[0m\u001b[0mtitle\u001b[0m\u001b[1;33m)\u001b[0m\u001b[1;33m,\u001b[0m \u001b[0mrow\u001b[0m\u001b[1;33m=\u001b[0m\u001b[1;36m1\u001b[0m\u001b[1;33m,\u001b[0m \u001b[0mcol\u001b[0m\u001b[1;33m=\u001b[0m\u001b[1;36m1\u001b[0m\u001b[1;33m)\u001b[0m\u001b[1;33m\u001b[0m\u001b[1;33m\u001b[0m\u001b[0m\n\u001b[0m\u001b[0;32m     12\u001b[0m \u001b[1;33m\u001b[0m\u001b[0m\n\u001b[0;32m     13\u001b[0m for col, title in zip(['active_risk_pctg_contribution'],\n",
      "\u001b[1;31mNameError\u001b[0m: name 'top_10' is not defined"
     ]
    }
   ],
   "source": [
    "import plotly.express as px\n",
    "import plotly.graph_objects as go\n",
    "from plotly.subplots import make_subplots\n",
    "\n",
    "fig = make_subplots(rows=1, cols=2, shared_yaxes=True,\n",
    "                    subplot_titles=['Exposure', 'Risk'])\n",
    "\n",
    "# Add bar traces to each subplot\n",
    "for col, title in zip(['portfolio_net_exposure', 'portfolio_long_exposure', 'portfolio_short_exposure'],\n",
    "                      ['Portfolio Net Exposure', 'Portfolio Long Exposure', 'Portfolio Short Exposure']):\n",
    "    fig.add_trace(go.Bar(x=top_10[col], y=top_10['factor'], orientation='h', name=title), row=1, col=1)\n",
    "\n",
    "for col, title in zip(['active_risk_pctg_contribution'],\n",
    "                      ['Risk']):\n",
    "    fig.add_trace(go.Bar(x=top_10[col], y=top_10['factor'], orientation='h', name=title), row=1, col=2)\n",
    "    \n",
    "fig.update_layout(barmode='stack')\n",
    "fig.update_layout(barmode='relative',  # To stack the bars,\n",
    "                  yaxis=dict(categoryorder='total ascending'))  # To maintain the order of factors\n",
    "fig.update_layout(height=600, width=1000, title=\"Bar Chart of Factor Data\")\n",
    "\n",
    "# Show the plot\n",
    "fig.show()"
   ]
  },
  {
   "cell_type": "code",
   "execution_count": null,
   "id": "96bd192d",
   "metadata": {},
   "outputs": [],
   "source": [
    "import pandas as pd\n",
    "import seaborn as sns\n",
    "import matplotlib.pyplot as plt\n",
    "\n",
    "# Assuming you have already executed the SQL query and have the DataFrame 'df'\n",
    "\n",
    "def create_bar_chart(value, ax):\n",
    "    sns.barplot(x=[value], y=['Risk'], ax=ax)\n",
    "    ax.set_xlabel('')\n",
    "    ax.set_ylabel('')\n",
    "    ax.yaxis.set_visible(False)  # Hide y-axis labels\n",
    "    ax.spines['top'].set_visible(False)  # Hide top border\n",
    "    ax.spines['right'].set_visible(False)  # Hide right border\n",
    "    ax.spines['bottom'].set_visible(False)  # Hide bottom border\n",
    "    ax.figure.set_size_inches(10, 5)\n",
    "    ax.xaxis.set_visible(False)\n",
    "    ax.set_xlim(0, 0.001)\n",
    "\n",
    "def create_text_value(value, ax):\n",
    "    ax.text(0.5, 0.5, f'{value:.2f}', va='center', ha='center',\n",
    "            fontsize=12, fontweight='bold')\n",
    "    ax.axis('off')\n",
    "\n",
    "\n",
    "def create_factor_label(label, ax):\n",
    "    ax.text(0.5, 0.5, label, va='center', ha='center',\n",
    "            fontsize=12, fontweight='bold')\n",
    "    ax.axis('off')\n",
    "    \n",
    "\n",
    "# Filter and process data\n",
    "df_filtered = df[df['parent_node'] == '/Industry']\n",
    "top_10 = df_filtered.nlargest(10, 'portfolio_net_exposure')\n",
    "\n",
    "# Create the combined chart\n",
    "fig, axes = plt.subplots(nrows=10, ncols=3, figsize=(12, 30))\n",
    "\n",
    "for idx, factor_row in enumerate(top_10.itertuples(), start=0):\n",
    "    factor = factor_row.factor\n",
    "    risk_value = factor_row.active_risk_pctg_contribution\n",
    "    \n",
    "\n",
    "    axes[0, 1].set_title('Value')\n",
    "    axes[0, 0].set_title('Factor')\n",
    "    axes[0, 2].set_title('Risk Contribution')\n",
    "    create_factor_label(factor, axes[idx, 0])\n",
    "    create_text_value(factor_row.portfolio_net_exposure, axes[idx, 1])\n",
    "    create_bar_chart(risk_value, axes[idx, 2])\n",
    "\n",
    "plt.tight_layout()\n",
    "plt.show()"
   ]
  }
 ],
 "metadata": {
  "kernelspec": {
   "display_name": "Python 3.9.7 ('base')",
   "language": "python",
   "name": "python3"
  },
  "language_info": {
   "codemirror_mode": {
    "name": "ipython",
    "version": 3
   },
   "file_extension": ".py",
   "mimetype": "text/x-python",
   "name": "python",
   "nbconvert_exporter": "python",
   "pygments_lexer": "ipython3",
   "version": "3.9.7"
  },
  "vscode": {
   "interpreter": {
    "hash": "ad2bdc8ecc057115af97d19610ffacc2b4e99fae6737bb82f5d7fb13d2f2c186"
   }
  }
 },
 "nbformat": 4,
 "nbformat_minor": 5
}
