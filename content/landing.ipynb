{
 "cells": [
  {
   "cell_type": "markdown",
   "id": "ac247839-c163-4fcd-8db6-9a83fa35ca66",
   "metadata": {},
   "source": [
    "<div>\n",
    "    <img src=\"https://codesolid.com/wp-content/uploads/2022/07/cropped-cropped-cropped-CodeSolid-2.png\" width=100\" style=\"float:left;margin-right:2em;margin-bottom:1em;margin-top:1em;\" />\n",
    "</div>\n",
    "\n",
    "# Python Online\n",
    "\n",
    "Welcome to CodeSolid's online Python tool, based on JupyterLite. What you're looking at is Jupyter Lab, running in your browser. \n",
    "\n",
    "* New to Jupyter? Visit our [Getting Started Guide](https://jupyter.codesolid.com/lab/index.html?path=getting-started.ipynb).\n",
    "\n",
    "## Python Exercises and Solutions\n",
    "\n",
    "The table below lists several articles and solutions you can work with online.  In many cases the article is a tutorial that you should consult before trying the exercises.  The exercises can then be used to reinforce what you learn.  There's also a solution set if you get stuck.\n",
    "\n",
    "\n",
    "                                              \n",
    "|Article|Practice Questions and Challenges|Solution Set|\n",
    "|---|---|---|\n",
    "|[Boolean Expressions in Python: Beginner to Expert](https://codesolid.com/boolean-expressions-python/)&nbsp;&nbsp;|[Python If/Else and Booleans](exercises/BooleanExpressionsExercises.ipynb)|[Solutions](solutions/BooleanExpressionsExercises.ipynb)|\n",
    "|[Python Lists for Beginners:  A Complete Lesson With Exercises](https://codesolid.com/python-lists/)&nbsp;&nbsp;|[List Exercises](exercises/ListExercises.ipynb)|[Solutions](solutions/ListExercises.ipynb)|\n",
    "|[Python Indexing and Slicing:  Complete Tutorial with Exercises](https://codesolid.com/python-indexing-slicing-exercises/)&nbsp;&nbsp;|[Indexing and Slicing Exercises](exercises/IndexingSlicingExercises.ipynb)|[Solutions](solutions/IndexingSlicingExercises.ipynb)|\n",
    "|[Pandas Examples and Review Questions](https://codesolid.com/pandas-practice-examples/)&nbsp;&nbsp;|[Pandas Practice Questions and Examples](exercises/PandasExercises.ipynb)|[Solutions](solutions/PandasExercises.ipynb)|\n",
    "\n",
    "## Learn More\n",
    "\n",
    "* If you're new or just want some tutorials and practice exercises to improve, check out\n",
    "[Learn Python](https://codesolid.com/learn-python).\n",
    "\n",
    "\n",
    "## Ready to Start?\n",
    "\n",
    "Try entering some Python in the cell below and click the run button above or Shift-Enter to see the results.  "
   ]
  },
  {
   "cell_type": "code",
   "execution_count": 6,
   "id": "1b1bd721-9d1f-4d07-b1f8-dfa3afb9a887",
   "metadata": {},
   "outputs": [],
   "source": [
    "# Your Python code here\n",
    "\n"
   ]
  },
  {
   "cell_type": "code",
   "execution_count": null,
   "id": "891a4c36-bb3a-47e1-983d-c62647b6351d",
   "metadata": {},
   "outputs": [],
   "source": []
  }
 ],
 "metadata": {
  "kernelspec": {
   "display_name": "Python 3 (ipykernel)",
   "language": "python",
   "name": "python3"
  },
  "language_info": {
   "codemirror_mode": {
    "name": "ipython",
    "version": 3
   },
   "file_extension": ".py",
   "mimetype": "text/x-python",
   "name": "python",
   "nbconvert_exporter": "python",
   "pygments_lexer": "ipython3",
   "version": "3.10.4"
  }
 },
 "nbformat": 4,
 "nbformat_minor": 5
}
