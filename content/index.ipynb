{
 "cells": [
  {
   "cell_type": "markdown",
   "id": "ac247839-c163-4fcd-8db6-9a83fa35ca66",
   "metadata": {},
   "source": [
    "<div>\n",
    "    <img src="data/logo.gif" width=100\" style=\"float:left;margin-right:2em;margin-bottom:1em;margin-top:1em;\" />\n",
    "</div>\n",
    "\n",
    "# Main Menu\n",
    "\n",
    "Welcome to Barra Analytics Dashboard, based on JupyterLite. What you're looking at is Jupyter Lab, running in your browser. \n",
    "\n",
    "* New to Jupyter? Visit our [Getting Started Guide](https://jupyter.codesolid.com/lab/index.html?path=getting-started.ipynb).\n",
    "\n",
    "## Python Exercises and Solutions\n",
    "\n",
    "The table below lists several views that you can navigate."
    "\n",
    "\n",
    "                                              \n",
    "|View|Description|Last Updated|\n",
    "|---|---|---|\n",
    "|[Portfolio Risk](views/PortfolioRisk.ipynb)&nbsp;&nbsp;|Portfolio-level charts that displays high level portfolio and analysis settings information. Provides a review multiple portfolios at a glance and identify the portfolios that need more thorough analysis|2023-09-26|\n",
    "|[Hedging Tool](views/HedgingTool.ipynb)&nbsp;&nbsp;|List Exercises| 2023-09-26 |\n",
    "|[Screening Tool](views/ScreeningTool.ipynb)&nbsp;&nbsp;|Indexing and Slicing Exercises|2023-09-26|\n",
    "|[Factor Returns](views/FactorReturns.ipynb)&nbsp;&nbsp;| Displays detailed information about the common factors in a model. Useful for decomposition of a portfolio’s common factor risk contribution into its components –Exposure, Volatility, and Correlation.|2023-09-26|\n",
    "\n",
   ]
  },
  {
   "cell_type": "code",
   "execution_count": 6,
   "id": "1b1bd721-9d1f-4d07-b1f8-dfa3afb9a887",
   "metadata": {},
   "outputs": [],
   "source": [
    "# Your Python code here\n",
    "\n"
   ]
  },
  {
   "cell_type": "code",
   "execution_count": null,
   "id": "891a4c36-bb3a-47e1-983d-c62647b6351d",
   "metadata": {},
   "outputs": [],
   "source": []
  }
 ],
 "metadata": {
  "kernelspec": {
   "display_name": "Python 3 (ipykernel)",
   "language": "python",
   "name": "python3"
  },
  "language_info": {
   "codemirror_mode": {
    "name": "ipython",
    "version": 3
   },
   "file_extension": ".py",
   "mimetype": "text/x-python",
   "name": "python",
   "nbconvert_exporter": "python",
   "pygments_lexer": "ipython3",
   "version": "3.10.4"
  }
 },
 "nbformat": 4,
 "nbformat_minor": 5
}
