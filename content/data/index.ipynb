{
  "metadata": {
    "kernelspec": {
      "name": "python",
      "display_name": "Python (Pyodide)",
      "language": "python"
    },
    "language_info": {
      "codemirror_mode": {
        "name": "python",
        "version": 3
      },
      "file_extension": ".py",
      "mimetype": "text/x-python",
      "name": "python",
      "nbconvert_exporter": "python",
      "pygments_lexer": "ipython3",
      "version": "3.8"
    }
  },
  "nbformat_minor": 5,
  "nbformat": 4,
  "cells": [
    {
      "cell_type": "markdown",
      "source": "<div>\n    <img src=\"https://codesolid.com/wp-content/uploads/2022/07/cropped-cropped-cropped-CodeSolid-2.png\" width=100\" style=\"float:left;margin-right:2em;margin-bottom:1em;margin-top:1em;\" />\n</div>\n\n# Python Online\n\nWelcome to CodeSolid's online Python tool, based on JupyterLite. What you're looking at is Jupyter Lab, running in your browser. \n\n* New to Jupyter? Visit our [Getting Started Guide](https://jupyter.codesolid.com/lab/index.html?path=getting-started.ipynb).\n\n## Python Exercises and Solutions\n\nThe table below lists several articles and solutions you can work with online.  In many cases the article is a tutorial that you should consult before trying the exercises.  The exercises can then be used to reinforce what you learn.  There's also a solution set if you get stuck.\n\n\n                                              \n|Article|Practice Questions and Challenges|Solution Set|\n|---|---|---|\n|[Boolean Expressions in Python: Beginner to Expert](https://codesolid.com/boolean-expressions-python/)&nbsp;&nbsp;|[Python If/Else and Booleans](exercises/BooleanExpressionsExercises.ipynb)|[Solutions](solutions/BooleanExpressionsExercises.ipynb)|\n|[Python Lists for Beginners:  A Complete Lesson With Exercises](https://codesolid.com/python-lists/)&nbsp;&nbsp;|[List Exercises](exercises/ListExercises.ipynb)|[Solutions](solutions/ListExercises.ipynb)|\n|[Python Indexing and Slicing:  Complete Tutorial with Exercises](https://codesolid.com/python-indexing-slicing-exercises/)&nbsp;&nbsp;|[Indexing and Slicing Exercises](exercises/IndexingSlicingExercises.ipynb)|[Solutions](solutions/IndexingSlicingExercises.ipynb)|\n|[Pandas Examples and Review Questions](https://codesolid.com/pandas-practice-examples/)&nbsp;&nbsp;|[Pandas Practice Questions and Examples](exercises/PandasExercises.ipynb)|[Solutions](solutions/PandasExercises.ipynb)|\n\n## Learn More\n\n* If you're new or just want some tutorials and practice exercises to improve, check out\n[Learn Python](https://codesolid.com/learn-python).\n\n\n## Ready to Start?\n\nTry entering some Python in the cell below and click the run button above or Shift-Enter to see the results.  ",
      "metadata": {},
      "id": "47280cf7-64f8-4c00-9541-e7d1f11bd624"
    },
    {
      "cell_type": "code",
      "source": "# Your Python code here\n\n",
      "metadata": {},
      "execution_count": 6,
      "outputs": [],
      "id": "1b1bd721-9d1f-4d07-b1f8-dfa3afb9a887"
    },
    {
      "cell_type": "code",
      "source": "",
      "metadata": {},
      "execution_count": null,
      "outputs": [],
      "id": "891a4c36-bb3a-47e1-983d-c62647b6351d"
    }
  ]
}