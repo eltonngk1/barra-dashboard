# Python Online

Welcome to CodeSolid's online Python tool, based on JupyterLite. What you're looking at is Jupyter Lab, running in your browser. 

* New to Jupyter? Visit our [Getting Started Guide](https://jupyter.codesolid.com/lab/index.html?path=getting-started.ipynb).

## Python Exercises and Solutions

The table below lists several articles and solutions you can work with online.  In many cases the article is a tutorial that you should consult before trying the exercises.  The exercises can then be used to reinforce what you learn.  There's also a solution set if you get stuck.


                                              
|Article|Practice Questions and Challenges|Solution Set|
|---|---|---|
|[Boolean Expressions in Python: Beginner to Expert](https://codesolid.com/boolean-expressions-python/)&nbsp;&nbsp;|[Python If/Else and Booleans](exercises/BooleanExpressionsExercises.ipynb)|[Solutions](solutions/BooleanExpressionsExercises.ipynb)|
|[Python Lists for Beginners:  A Complete Lesson With Exercises](https://codesolid.com/python-lists/)&nbsp;&nbsp;|[List Exercises](exercises/ListExercises.ipynb)|[Solutions](solutions/ListExercises.ipynb)|
|[Python Indexing and Slicing:  Complete Tutorial with Exercises](https://codesolid.com/python-indexing-slicing-exercises/)&nbsp;&nbsp;|[Indexing and Slicing Exercises](exercises/IndexingSlicingExercises.ipynb)|[Solutions](solutions/IndexingSlicingExercises.ipynb)|
|[Pandas Examples and Review Questions](https://codesolid.com/pandas-practice-examples/)&nbsp;&nbsp;|[Pandas Practice Questions and Examples](exercises/PandasExercises.ipynb)|[Solutions](solutions/PandasExercises.ipynb)|

## Learn More

* If you're new or just want some tutorials and practice exercises to improve, check out
[Learn Python](https://codesolid.com/learn-python).


## Ready to Start?

Try entering some Python in the cell below and click the run button above or Shift-Enter to see the results.  
